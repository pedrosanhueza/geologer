{
 "cells": [
  {
   "cell_type": "code",
   "execution_count": 1,
   "metadata": {},
   "outputs": [],
   "source": [
    "import shutil\n",
    "import subprocess"
   ]
  },
  {
   "cell_type": "code",
   "execution_count": 10,
   "metadata": {},
   "outputs": [
    {
     "data": {
      "text/plain": [
       "'data/calidad-aire-dia_Sierra_Gorda_Disc_01-12-2021_a_14-12-2023.csv'"
      ]
     },
     "execution_count": 10,
     "metadata": {},
     "output_type": "execute_result"
    }
   ],
   "source": [
    "# move CSV over to this GEOLOGER location\n",
    "\n",
    "source_path = r\"c:\\Users\\pedro\\Downloads\\calidad-aire-dia_Sierra_Gorda_Disc_01-12-2021_a_14-12-2023.csv\"\n",
    "\n",
    "destination_path = \"data/calidad-aire-dia_Sierra_Gorda_Disc_01-12-2021_a_14-12-2023.csv\"  # Assuming you want to move it to the current directory\n",
    "\n",
    "shutil.move(source_path, destination_path)"
   ]
  },
  {
   "cell_type": "code",
   "execution_count": 4,
   "metadata": {},
   "outputs": [],
   "source": [
    "def upload_to_github(repository_path, file_path, commit_message):\n",
    "    # Change to the repository directory\n",
    "    subprocess.run([\"cd\", repository_path], shell=True)\n",
    "\n",
    "    # Add the file to the staging area\n",
    "    subprocess.run([\"git\", \"add\", file_path])\n",
    "\n",
    "    # Commit the changes\n",
    "    subprocess.run([\"git\", \"commit\", \"-m\", commit_message])\n",
    "\n",
    "    # Push the changes to GitHub\n",
    "    subprocess.run([\"git\", \"push\"])\n",
    "    "
   ]
  },
  {
   "cell_type": "code",
   "execution_count": 6,
   "metadata": {},
   "outputs": [],
   "source": [
    "repository_path = \"https://github.com/pedrosanhueza/geologer\"\n",
    "\n",
    "file_path = \"data/Sierra_Gorda - Pronosticada.csv\"\n",
    "\n",
    "commit_message = \"Upload CSV file\"\n",
    "\n",
    "upload_to_github(repository_path, file_path, commit_message)"
   ]
  },
  {
   "cell_type": "code",
   "execution_count": null,
   "metadata": {},
   "outputs": [],
   "source": []
  }
 ],
 "metadata": {
  "kernelspec": {
   "display_name": "Python 3",
   "language": "python",
   "name": "python3"
  },
  "language_info": {
   "codemirror_mode": {
    "name": "ipython",
    "version": 3
   },
   "file_extension": ".py",
   "mimetype": "text/x-python",
   "name": "python",
   "nbconvert_exporter": "python",
   "pygments_lexer": "ipython3",
   "version": "3.12.0"
  }
 },
 "nbformat": 4,
 "nbformat_minor": 2
}
